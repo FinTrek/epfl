{
 "cells": [
  {
   "cell_type": "code",
   "execution_count": 1,
   "metadata": {
    "collapsed": false,
    "slideshow": {
     "slide_type": "slide"
    }
   },
   "outputs": [],
   "source": [
    "import talk.config as con\n",
    "\n",
    "# environment variable for MOSEK\n",
    "con.config_configManager()\n",
    "con.config_matplotlib()"
   ]
  },
  {
   "cell_type": "markdown",
   "metadata": {
    "slideshow": {
     "slide_type": "slide"
    }
   },
   "source": [
    "Leveraged Portfolios\n",
    "---------------------\n",
    "https://en.wikipedia.org/wiki/130%E2%80%9330_fund\n",
    "\n",
    "#### Thomas Schmelzer"
   ]
  },
  {
   "cell_type": "markdown",
   "metadata": {
    "slideshow": {
     "slide_type": "slide"
    }
   },
   "source": [
    "### A 130/30 Equity Portfolio\n",
    "\n",
    "- Allocate capital $C=1$. Sell short at most $c = 0.3$ to finance a long position of $1 + c$. \n",
    "- Universe of $n$ assets."
   ]
  },
  {
   "cell_type": "markdown",
   "metadata": {
    "slideshow": {
     "slide_type": "slide"
    }
   },
   "source": [
    "\\begin{align}\\mathbf{x}^{*}=\\arg\\max_{\\mathbf{x} \\in \\mathbb{R}^n}& \\mu^{T}\\mathbf{x}\\\\\n",
    "\\text{s.t. } &\\Sigma\\,x_i=1\\\\\n",
    "             &\\Sigma\\,\\lvert x_i\\rvert \\leq 1 + 2c\\\\\n",
    "             &\\sqrt{\\mathbf{x}^T\\mathbf{C}\\mathbf{x}} \\leq \\sigma_{\\max}\n",
    "\\end{align}"
   ]
  },
  {
   "cell_type": "markdown",
   "metadata": {
    "slideshow": {
     "slide_type": "slide"
    }
   },
   "source": [
    "### Cholesky decomposition of the covariance matrix:\n",
    "$$\\sqrt{\\mathbf{x}^T\\mathbf{C}\\mathbf{x}}=\\sqrt{\\mathbf{x}^T\\mathbf{G G}^T\\mathbf{x}}=\\rVert{\\mathbf{G}^T\\mathbf{x}}\\lVert_2$$\n",
    "Introduce the cone $[y, G^T x] \\in \\mathcal{Q}_{n+1}$.\n"
   ]
  },
  {
   "cell_type": "markdown",
   "metadata": {
    "slideshow": {
     "slide_type": "slide"
    }
   },
   "source": [
    "### The absolute value:\n",
    "$$\\lvert{x_i}\\rvert=\\sqrt{x_i^2}=\\rVert{x_i}\\lVert_2$$\n",
    "The sum of absolute values (e.g. the $1$-norm) is replaced by $n$ cones of dimension $2$, e.g.\n",
    "$[t_i, x_i] \\in \\mathcal{Q}_2$. Now\n",
    "$$\\Sigma\\,t_i \\leq 1 + 2c$$ implies $$\\Sigma\\,\\lvert x_i\\rvert \\leq 1 + 2c$$"
   ]
  },
  {
   "cell_type": "markdown",
   "metadata": {
    "slideshow": {
     "slide_type": "slide"
    }
   },
   "source": [
    "\\begin{align}\\mathbf{x}^{*}=\\arg\\max_{\\mathbf{x} \\in \\mathbb{R}^n}& \\mu^{T}\\mathbf{x}\\\\\n",
    "\\text{s.t. } &\\Sigma\\,x_i=1\\\\\n",
    "             &\\Sigma\\, t_i \\leq 1 + 2c\\\\\n",
    "             &[y, G^T x] \\in \\mathcal{Q}_{n+1}\\\\\n",
    "             &y \\leq \\sigma_{\\max}\\\\\n",
    "             &[t_i, x_i] \\in \\mathcal{Q}_2,\\,\\,i \\in [1,\\ldots,n]\n",
    "\\end{align}\n"
   ]
  },
  {
   "cell_type": "code",
   "execution_count": 10,
   "metadata": {
    "collapsed": false
   },
   "outputs": [
    {
     "name": "stdout",
     "output_type": "stream",
     "text": [
      "[ -2.08474676e-12   2.06975739e-09   3.86980929e-09   9.67015740e-11\n",
      "  -1.18755098e-09  -7.96317237e-09  -2.08238157e-10   8.08097931e-10\n",
      "   3.33631629e-08   3.41228066e-10  -5.24358269e-10  -2.70697656e-01\n",
      "  -5.11500064e-10   3.50889625e-10   3.77680176e-08   7.87252256e-10\n",
      "  -2.15578766e-10  -8.52300777e-09  -1.15527228e-09   1.03126870e-10\n",
      "   4.04874129e-09   2.00004295e-09  -8.13823052e-12  -1.97963310e-09\n",
      "  -3.31508831e-09  -9.39825101e-11   1.28891591e-09   8.48888404e-09\n",
      "   1.99166129e-10  -8.00091698e-10  -3.65231770e-08  -3.29649062e-10\n",
      "   5.49399219e-10   8.51076159e-01   5.08698034e-10  -3.57564090e-10\n",
      "  -6.02217685e-08  -7.41888004e-10   2.21734012e-10   1.02713237e-08\n",
      "   1.18216300e-09  -1.13030270e-10  -3.76894909e-09  -1.79605915e-09\n",
      "   1.00311884e-11   2.21970884e-09   3.54425684e-09   8.39756115e-11\n",
      "  -1.25568475e-09  -7.00590432e-09  -1.93812365e-10   8.51728907e-10\n",
      "   2.67631207e-08   3.22423542e-10  -5.50986955e-10  -2.93013765e-02\n",
      "  -4.86640422e-10   3.70764463e-10   5.03389387e-08   7.47365414e-10\n",
      "  -2.30533852e-10  -9.85351020e-09  -1.09400886e-09   1.16115961e-10\n",
      "   4.44369202e-09   1.87006677e-09  -2.02481806e-11  -2.11689098e-09\n",
      "  -3.05603191e-09  -8.14616316e-11   1.36712815e-09   7.52940461e-09\n",
      "   1.84580090e-10  -8.41807591e-10  -2.72977097e-08  -3.11821698e-10\n",
      "   5.78235330e-10   4.48923567e-01   4.83119288e-10  -3.77026877e-10\n",
      "  -8.70665392e-08  -7.05727847e-10   2.37284757e-10   1.17556511e-08\n",
      "   1.11723962e-09  -1.25937514e-10  -4.12501589e-09  -1.68654774e-09\n",
      "   2.21750599e-11   2.38533215e-09   3.25640094e-09   7.13978263e-11\n",
      "  -1.32900694e-09  -6.21918418e-09  -1.79703619e-10   8.98143742e-10\n",
      "   2.20505776e-08   3.04268984e-10  -5.78911749e-10  -6.58970338e-07]\n",
      "Sum of positive weights: 1.2999999782536114\n",
      "Sum of negative weights: -0.2999999782536851\n",
      "Sum of all weights:      0.9999999999999264\n"
     ]
    }
   ],
   "source": [
    "import cvxpy as cvx\n",
    "import numpy as np\n",
    "# make some random data, e.g. cov-matrix and expected returns\n",
    "n = 100\n",
    "c = 0.9\n",
    "C = c * np.ones((n, n)) + (1 - c) * np.eye(n)\n",
    "mu = 0.05 * np.sin(range(0, n))\n",
    "# maximal volatility and leverage...\n",
    "sigma_max = 1.0\n",
    "excess = 0.3\n",
    "\n",
    "x = cvx.Variable(n)\n",
    "constraints = [cvx.sum_entries(x)==1, cvx.norm(x,1)<=1+2*excess, cvx.quad_form(x,C)<=sigma_max*sigma_max]\n",
    "objective = cvx.Maximize(x.T*mu)\n",
    "cvx.Problem(objective=objective, constraints=constraints).solve()\n",
    "f = np.array([x[i].value for i in range(0,n)])\n",
    "print(f)\n",
    "\n",
    "print(\"Sum of positive weights: {0}\".format(np.sum(f[f > 0])))\n",
    "print(\"Sum of negative weights: {0}\".format(np.sum(f[f < 0])))\n",
    "print(\"Sum of all weights:      {0}\".format(np.sum(f)))"
   ]
  },
  {
   "cell_type": "code",
   "execution_count": 2,
   "metadata": {
    "collapsed": false,
    "slideshow": {
     "slide_type": "slide"
    }
   },
   "outputs": [
    {
     "name": "stdout",
     "output_type": "stream",
     "text": [
      "Sum of positive weights: 1.300000041390767\n",
      "Sum of negative weights: -0.30000004711145856\n",
      "Sum of all weights:      0.9999999942793083\n"
     ]
    }
   ],
   "source": [
    "from mosek.fusion import Model, Matrix, Domain, Expr, ObjectiveSense\n",
    "import numpy as np\n",
    "# make some random data, e.g. cov-matrix and expected returns\n",
    "n = 100\n",
    "c = 0.9\n",
    "C = c * np.ones((n, n)) + (1 - c) * np.eye(n)\n",
    "mu = 0.05 * np.sin(range(0, n))\n",
    "# maximal volatility and leverage...\n",
    "sigma_max = 1.0\n",
    "excess = 0.3\n",
    "\n",
    "def __abs(model, v):\n",
    "    t = model.variable(int(v.size()), Domain.greaterThan(0.0))\n",
    "    model.constraint(Expr.hstack(t, v), Domain.inQCone(int(v.size()), 2))\n",
    "    return t\n",
    "\n",
    "\n",
    "def __two_norm(model, v):\n",
    "    t = model.variable(1, Domain.greaterThan(0.0))\n",
    "    model.constraint(Expr.vstack(t, v), Domain.inQCone())\n",
    "    return t\n",
    "\n",
    "    \n",
    "def __one_norm(model, v):\n",
    "    return Expr.sum(__abs(model, v))\n",
    "\n",
    "\n",
    "with Model('equity') as model:\n",
    "    w = model.variable(\"w\", mu.size, Domain.unbounded())\n",
    "    \n",
    "    # sum w_i = 1\n",
    "    model.constraint(Expr.sum(w), Domain.equalsTo(1.0))\n",
    "\n",
    "    # sum abs(w_i) <= 1 + 2*excess\n",
    "    model.constraint(__one_norm(model, w), Domain.lessThan(1.0 + 2 * excess))\n",
    "\n",
    "    # Norm(G^T*w) <= sigma_max \n",
    "    y = __two_norm(model, Expr.mul(Matrix.dense(np.transpose(np.linalg.cholesky(C))), w))\n",
    "    model.constraint(y, Domain.lessThan(sigma_max))\n",
    "\n",
    "    # maximize objective mu'w\n",
    "    model.objective(ObjectiveSense.Maximize, Expr.dot(mu, w)), model.solve()\n",
    "    f = np.array(w.level())\n",
    "\n",
    "print(\"Sum of positive weights: {0}\".format(np.sum(f[f > 0])))\n",
    "print(\"Sum of negative weights: {0}\".format(np.sum(f[f < 0])))\n",
    "print(\"Sum of all weights:      {0}\".format(np.sum(f)))"
   ]
  },
  {
   "cell_type": "markdown",
   "metadata": {
    "slideshow": {
     "slide_type": "slide"
    }
   },
   "source": [
    "### Summary\n",
    "\n",
    "- Leverage is here a constraint for the $1$-norm of the weight vector.\n",
    "\n",
    "\n",
    "- We replace the $1$-norm of a vector of length $n$ with $n$ cones each of dimension $2$.\n",
    "\n",
    "\n",
    "- We compute the Cholesky decomposition of a $n \\times n$ covariance matrix to introduce a cone of dimension $n + 1$."
   ]
  }
 ],
 "metadata": {
  "celltoolbar": "Slideshow",
  "kernelspec": {
   "display_name": "Python 3",
   "language": "python",
   "name": "python3"
  },
  "language_info": {
   "codemirror_mode": {
    "name": "ipython",
    "version": 3
   },
   "file_extension": ".py",
   "mimetype": "text/x-python",
   "name": "python",
   "nbconvert_exporter": "python",
   "pygments_lexer": "ipython3",
   "version": "3.5.2"
  }
 },
 "nbformat": 4,
 "nbformat_minor": 0
}

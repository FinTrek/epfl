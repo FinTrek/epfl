{
 "cells": [
  {
   "cell_type": "code",
   "execution_count": 1,
   "metadata": {
    "collapsed": false,
    "slideshow": {
     "slide_type": "slide"
    }
   },
   "outputs": [
    {
     "data": {
      "text/html": [
       "<style>.container { width:100% !important; }</style>"
      ],
      "text/plain": [
       "<IPython.core.display.HTML object>"
      ]
     },
     "metadata": {},
     "output_type": "display_data"
    }
   ],
   "source": [
    "import matplotlib\n",
    "import matplotlib.pyplot as plt\n",
    "matplotlib.style.use('ggplot')\n",
    "\n",
    "from IPython.core.display import display, HTML\n",
    "display(HTML(\"<style>.container { width:100% !important; }</style>\"))\n",
    "import qgrid\n",
    "qgrid.nbinstall(overwrite=True)\n",
    "\n",
    "import numpy as np\n",
    "import pandas as pd"
   ]
  },
  {
   "cell_type": "markdown",
   "metadata": {
    "slideshow": {
     "slide_type": "slide"
    }
   },
   "source": [
    "Leveraged Portfolios\n",
    "---------------------\n",
    "https://en.wikipedia.org/wiki/130%E2%80%9330_fund\n",
    "\n",
    "#### Thomas Schmelzer"
   ]
  },
  {
   "cell_type": "markdown",
   "metadata": {
    "slideshow": {
     "slide_type": "slide"
    }
   },
   "source": [
    "### A 130/30 Equity Portfolio\n",
    "\n",
    "- Allocate capital $C=1$. Sell short at most $c = 0.3$ to finance a long position of $1 + c$. \n",
    "- Universe of $n$ assets."
   ]
  },
  {
   "cell_type": "markdown",
   "metadata": {
    "slideshow": {
     "slide_type": "slide"
    }
   },
   "source": [
    "\\begin{align}\\mathbf{x}^{*}=\\arg\\max_{\\mathbf{x} \\in \\mathbb{R}^n}& \\mu^{T}\\mathbf{x}\\\\\n",
    "\\text{s.t. } &\\Sigma\\,x_i=1\\\\\n",
    "             &\\Sigma\\,\\lvert x_i\\rvert \\leq 1 + 2c\\\\\n",
    "             &\\sqrt{\\mathbf{x}^T\\mathbf{C}\\mathbf{x}} \\leq \\sigma_{\\max}\n",
    "\\end{align}"
   ]
  },
  {
   "cell_type": "code",
   "execution_count": 2,
   "metadata": {
    "collapsed": false,
    "slideshow": {
     "slide_type": "slide"
    }
   },
   "outputs": [
    {
     "name": "stdout",
     "output_type": "stream",
     "text": [
      "Sum of positive weights: 1.2999999782536114\n",
      "Sum of negative weights: -0.2999999782536851\n",
      "Sum of all weights:      0.9999999999999264\n"
     ]
    }
   ],
   "source": [
    "from cvx.util import cvx, maximize, cvx2np\n",
    "\n",
    "# make some random data, e.g. cov-matrix and expected returns\n",
    "n = 100\n",
    "c = 0.9\n",
    "C = c * np.ones((n, n)) + (1 - c) * np.eye(n)\n",
    "mu = 0.05 * np.sin(range(0, n))\n",
    "# maximal volatility and leverage...\n",
    "sigma_max = 1.0\n",
    "excess = 0.3\n",
    "\n",
    "x = cvx.Variable(n)\n",
    "constraints = [cvx.sum_entries(x)==1, cvx.norm(x,1)<=1+2*excess, cvx.quad_form(x,C)<=sigma_max*sigma_max]\n",
    "maximize(objective=x.T*mu, constraints=constraints)\n",
    "f = cvx2np(x)\n",
    "\n",
    "print(\"Sum of positive weights: {0}\".format(np.sum(f[f > 0])))\n",
    "print(\"Sum of negative weights: {0}\".format(np.sum(f[f < 0])))\n",
    "print(\"Sum of all weights:      {0}\".format(np.sum(f)))"
   ]
  },
  {
   "cell_type": "markdown",
   "metadata": {
    "slideshow": {
     "slide_type": "slide"
    }
   },
   "source": [
    "### Summary\n",
    "\n",
    "- Leverage is here a constraint for the $1$-norm of the weight vector.\n",
    "\n",
    "- Note that we do not solve two problems for the short and long part of the portfolio."
   ]
  }
 ],
 "metadata": {
  "anaconda-cloud": {},
  "celltoolbar": "Slideshow",
  "kernelspec": {
   "display_name": "Python 3",
   "language": "python",
   "name": "python3"
  },
  "language_info": {
   "codemirror_mode": {
    "name": "ipython",
    "version": 3
   },
   "file_extension": ".py",
   "mimetype": "text/x-python",
   "name": "python",
   "nbconvert_exporter": "python",
   "pygments_lexer": "ipython3",
   "version": "3.5.2"
  }
 },
 "nbformat": 4,
 "nbformat_minor": 0
}

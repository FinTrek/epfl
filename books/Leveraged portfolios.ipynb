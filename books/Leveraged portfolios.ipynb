{
 "cells": [
  {
   "cell_type": "code",
   "execution_count": 1,
   "metadata": {
    "collapsed": false,
    "slideshow": {
     "slide_type": "slide"
    }
   },
   "outputs": [],
   "source": [
    "import talk.config as con\n",
    "\n",
    "con.config_configManager()\n",
    "con.config_matplotlib()"
   ]
  },
  {
   "cell_type": "markdown",
   "metadata": {
    "slideshow": {
     "slide_type": "slide"
    }
   },
   "source": [
    "Leveraged Portfolios\n",
    "---------------------\n",
    "https://en.wikipedia.org/wiki/130%E2%80%9330_fund\n",
    "\n",
    "#### Thomas Schmelzer"
   ]
  },
  {
   "cell_type": "markdown",
   "metadata": {
    "slideshow": {
     "slide_type": "slide"
    }
   },
   "source": [
    "### A 130/30 Equity Portfolio\n",
    "\n",
    "- Allocate capital $C=1$. Sell short at most $c = 0.3$ to finance a long position of $1 + c$. \n",
    "- Universe of $n$ assets."
   ]
  },
  {
   "cell_type": "markdown",
   "metadata": {
    "slideshow": {
     "slide_type": "slide"
    }
   },
   "source": [
    "\\begin{align}\\mathbf{x}^{*}=\\arg\\max_{\\mathbf{x} \\in \\mathbb{R}^n}& \\mu^{T}\\mathbf{x}\\\\\n",
    "\\text{s.t. } &\\Sigma\\,x_i=1\\\\\n",
    "             &\\Sigma\\,\\lvert x_i\\rvert \\leq 1 + 2c\\\\\n",
    "             &\\sqrt{\\mathbf{x}^T\\mathbf{C}\\mathbf{x}} \\leq \\sigma_{\\max}\n",
    "\\end{align}"
   ]
  },
  {
   "cell_type": "code",
   "execution_count": 5,
   "metadata": {
    "collapsed": false,
    "slideshow": {
     "slide_type": "slide"
    }
   },
   "outputs": [
    {
     "name": "stdout",
     "output_type": "stream",
     "text": [
      "[ -1.76280880e-12   1.72744348e-09   3.23063462e-09   8.06362248e-11\n",
      "  -9.90103686e-10  -6.63823051e-09  -1.73691915e-10   6.74238457e-10\n",
      "   2.77617584e-08   2.84636545e-10  -4.37279158e-10  -2.70709614e-01\n",
      "  -4.26558776e-10   2.92697855e-10   3.14211218e-08   6.56840729e-10\n",
      "  -1.79813316e-10  -7.10550893e-09  -9.63201083e-10   8.59959624e-11\n",
      "   3.38007135e-09   1.66923690e-09  -6.81181760e-12  -1.65016551e-09\n",
      "  -2.76284657e-09  -7.84083226e-11   1.07556463e-09   7.08665824e-09\n",
      "   1.66112749e-10  -6.67149158e-10  -3.05729963e-08  -2.74933327e-10\n",
      "   4.58341488e-10   8.51069144e-01   4.24377068e-10  -2.98209736e-10\n",
      "  -5.04818525e-08  -6.18629669e-10   1.84940267e-10   8.57295116e-09\n",
      "   9.86455076e-10  -9.42938766e-11  -3.14100955e-09  -1.49720231e-09\n",
      "   8.34278544e-12   1.85264594e-09   2.95874752e-09   7.00208232e-11\n",
      "  -1.04688837e-09  -5.83951082e-09  -1.61662014e-10   7.10653198e-10\n",
      "   2.22815786e-08   2.68946818e-10  -4.59480256e-10  -2.92895834e-02\n",
      "  -4.05832093e-10   3.09281023e-10   4.18758092e-08   6.23551746e-10\n",
      "  -1.92284390e-10  -8.21653429e-09  -9.12140159e-10   9.68310842e-11\n",
      "   3.70991521e-09   1.56071912e-09  -1.69122268e-11  -1.76453208e-09\n",
      "  -2.54700570e-09  -6.79659393e-11   1.14085244e-09   6.28612579e-09\n",
      "   1.53944415e-10  -7.01923206e-10  -2.28283287e-08  -2.60068094e-10\n",
      "   4.82405222e-10   4.48930627e-01   4.03032512e-10  -3.14438153e-10\n",
      "  -7.30310653e-08  -5.88485208e-10   1.97913910e-10   9.80974804e-09\n",
      "   9.32263293e-10  -1.05058173e-10  -3.43770969e-09  -1.40594857e-09\n",
      "   1.84718118e-11   1.99093926e-09   2.71834716e-09   5.95291708e-11\n",
      "  -1.10799546e-09  -5.18335224e-09  -1.49896369e-10   7.49392062e-10\n",
      "   1.83690461e-08   2.53799646e-10  -4.82761574e-10  -5.44284269e-07]\n",
      "Sum of positive weights: 1.2999999818582357\n",
      "Sum of negative weights: -0.2999999818583008\n",
      "Sum of all weights:      0.9999999999999348\n"
     ]
    }
   ],
   "source": [
    "from cvx.util import cvx, maximize, cvx2np\n",
    "import numpy as np\n",
    "# make some random data, e.g. cov-matrix and expected returns\n",
    "n = 100\n",
    "c = 0.9\n",
    "C = c * np.ones((n, n)) + (1 - c) * np.eye(n)\n",
    "mu = 0.05 * np.sin(range(0, n))\n",
    "# maximal volatility and leverage...\n",
    "sigma_max = 1.0\n",
    "excess = 0.3\n",
    "\n",
    "x = cvx.Variable(n)\n",
    "constraints = [cvx.sum_entries(x)==1, cvx.norm(x,1)<=1+2*excess, cvx.quad_form(x,C)<=sigma_max*sigma_max]\n",
    "maximize(objective=x.T*mu, constraints=constraints)\n",
    "f = cvx2np(x)\n",
    "print(f)\n",
    "\n",
    "print(\"Sum of positive weights: {0}\".format(np.sum(f[f > 0])))\n",
    "print(\"Sum of negative weights: {0}\".format(np.sum(f[f < 0])))\n",
    "print(\"Sum of all weights:      {0}\".format(np.sum(f)))"
   ]
  },
  {
   "cell_type": "markdown",
   "metadata": {
    "slideshow": {
     "slide_type": "slide"
    }
   },
   "source": [
    "### Summary\n",
    "\n",
    "- Leverage is here a constraint for the $1$-norm of the weight vector.\n",
    "\n",
    "- Note that we do not solve two problems for the short and long part of the portfolio."
   ]
  }
 ],
 "metadata": {
  "anaconda-cloud": {},
  "celltoolbar": "Slideshow",
  "kernelspec": {
   "display_name": "Python 3",
   "language": "python",
   "name": "python3"
  },
  "language_info": {
   "codemirror_mode": {
    "name": "ipython",
    "version": 3
   },
   "file_extension": ".py",
   "mimetype": "text/x-python",
   "name": "python",
   "nbconvert_exporter": "python",
   "pygments_lexer": "ipython3",
   "version": "3.5.2"
  }
 },
 "nbformat": 4,
 "nbformat_minor": 0
}

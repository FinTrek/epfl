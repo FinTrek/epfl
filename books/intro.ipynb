{
 "cells": [
  {
   "cell_type": "markdown",
   "metadata": {
    "slideshow": {
     "slide_type": "slide"
    }
   },
   "source": [
    "## Portfolio Optimization, Regression and Conic Programming\n",
    "\n",
    "**Thomas Schmelzer**\n",
    "\n",
    "\n",
    "\n",
    "\n",
    "Lausanne, December 1, 2016"
   ]
  },
  {
   "cell_type": "markdown",
   "metadata": {
    "slideshow": {
     "slide_type": "slide"
    }
   },
   "source": [
    "\n",
    "+ #### Academia (2004-2007) \n",
    "    + PhD Mathematics, Oxford University\n",
    "\n",
    "\n",
    "+ #### 7 Years in Hedge Funds (2007-2014) \n",
    "    + Winton Capital (similar to Geneva's Systematica)\n",
    "    + IMC Trading (formerly known as the pride of Switzerland's prop trading)\n",
    "    + OxAM Liechtenstein (long/short equity)\n",
    "\n",
    "\n",
    "+ #### since 2014\n",
    "    + Head of Quant Research for Lobnek Wealth Management (Geneva)"
   ]
  },
  {
   "cell_type": "markdown",
   "metadata": {
    "slideshow": {
     "slide_type": "slide"
    }
   },
   "source": [
    "### Warning\n",
    "\n",
    "Be **careful** when you mention Optimization... the term is just too ambigious."
   ]
  },
  {
   "cell_type": "markdown",
   "metadata": {
    "slideshow": {
     "slide_type": "slide"
    }
   },
   "source": [
    "# Today  \n",
    "\n",
    "- we render problems arising in quantitative finance as conic programs.\n",
    "\n",
    "- we solve such programs using 3rd party software, (http://www.cvxpy.org/).\n",
    "\n",
    "- we illustrate common mistakes made in practice."
   ]
  },
  {
   "cell_type": "markdown",
   "metadata": {
    "slideshow": {
     "slide_type": "slide"
    }
   },
   "source": [
    "# My (personal) observations\n",
    "+ Practioners still very skeptical when it comes to Portfolio Optimization. Positions too concentrated, moves too wild...\n",
    "\n",
    "+ Attempt to confirm opinions\n",
    "\n",
    "+ Often rather tight bands \n",
    "\n",
    "+ Political dimension\n",
    "\n",
    "+ Sparse knowledge or even total ignorance of literature on the subject\n",
    "\n",
    "+ Optimization as some sort of IT problem\n",
    "\n",
    "+ Often painful and expensive rediscovery of well-document shortcomings\n"
   ]
  },
  {
   "cell_type": "markdown",
   "metadata": {
    "slideshow": {
     "slide_type": "slide"
    }
   },
   "source": [
    "### Literature\n",
    "\n",
    "- Stephen Boyd, Convex Optimization, http://stanford.edu/~boyd/cvxbook/\n",
    "\n",
    "- Mosek Modeling Manual, http://docs.mosek.com/generic/modeling-letter.pdf\n",
    "\n",
    "- Mosek Tutorials, https://github.com/MOSEK/Tutorials\n",
    "\n",
    "- Thomas Schmelzer and Raphael Hauser, Seven Sins in Portfolio Optimization, http://arxiv.org/abs/1310.3396\n",
    "\n",
    "- Thomas Schmelzer et al., Regression techniques for Portfolio Optimization using MOSEK, http://arxiv.org/abs/1310.3397\n",
    "\n",
    "- Gerard Cornuejols, Reha Tutuncu, Optimization Methods in Finance\n",
    "\n",
    "\n",
    "This talk is available online:\n",
    "\n",
    "All materical available on https://github.com/tschm/epfl\n",
    "\n",
    "\n",
    "\n",
    "\n",
    "\n"
   ]
  }
 ],
 "metadata": {
  "anaconda-cloud": {},
  "celltoolbar": "Slideshow",
  "kernelspec": {
   "display_name": "Python 3",
   "language": "python",
   "name": "python3"
  },
  "language_info": {
   "codemirror_mode": {
    "name": "ipython",
    "version": 3
   },
   "file_extension": ".py",
   "mimetype": "text/x-python",
   "name": "python",
   "nbconvert_exporter": "python",
   "pygments_lexer": "ipython3",
   "version": "3.5.2"
  }
 },
 "nbformat": 4,
 "nbformat_minor": 0
}
